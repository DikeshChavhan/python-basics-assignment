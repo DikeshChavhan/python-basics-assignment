{
  "nbformat": 4,
  "nbformat_minor": 0,
  "metadata": {
    "colab": {
      "provenance": []
    },
    "kernelspec": {
      "name": "python3",
      "display_name": "Python 3"
    },
    "language_info": {
      "name": "python"
    }
  },
  "cells": [
    {
      "cell_type": "markdown",
      "source": [
        "                **Python Basics Questions**\n",
        "\n",
        "1. What is Python, and why is it popular?\n",
        "ANS: Python is a high level, general purpose programming language. it is easy to learn and understand.\n",
        "python is popular for beginners and experienced programmers.\n",
        "\n",
        "2. What is an interpreter in Python?\n",
        "ANS: In Python, the interpreter is a program that executes your code line by line.It reads your Python script, translates each line into machine-readable instructions, and then executes those instructions immediately.\n",
        "\n",
        "3. What are pre-defined keywords in Python?\n",
        "ANS: In Python, pre-defined keywords are reserved words that have special meanings and purposes within the language. These keywords cannot be used as variable names, function names, or any other identifiers.\n",
        "\n",
        "4. Can keywords be used as variable names?\n",
        "ANS: No,keywords cannot be used as variable names in Python.\n",
        "\n",
        "5. What is mutability in Python?\n",
        "ANS: In python mutability means the ability of an object to be changed after it is created.\n",
        "\n",
        "6. Why are lists mutable, but tuples are immutable?\n",
        "ANS: Lists are mutable because they are designed to be flexible and allow for changes. Tuples are immutable because the are designed to esure data integrity and tuples are unchanged.\n",
        "\n",
        "7. What is the difference between “==” and “is” operators in Python?\n",
        "ANS:The == operator compares the values of two objects. It checks if the objects have the same content or data.\n",
        "Returns True if values are equal, False otherwise.\n",
        "The is operator compares the identities of two objects. It checks if both variables refer to the same object in memory.\n",
        "Returns True if objects are the same, False otherwise.\n",
        "\n",
        "8. What are logical operators in Python?\n",
        "ANS: AND , OR and NOT  these are logical operators.\n",
        "\n",
        "9. What is type casting in Python?\n",
        "ANS:The process of changing the data type of value/objects.It convert's one data type into another\n",
        "\n",
        "10. What is the difference between implicit and explicit type casting?\n",
        "ANS:Implicit type casting is performed automatically by the Python interpreter without requiring any explicit code from the programmer.Explicit type casting is performed by the programmer using built-in functions like int(), float(), str(), etc.\n",
        "\n",
        "11. What is the purpose of conditional statements in Python?\n",
        "ANS:The main purpose of conditional statements is to introduce decision making in programs.conditional statements are used to run multiple block of code.\n",
        "\n",
        "12. How does the elif statement work?\n",
        "ANS: 1.initial if condition.\n",
        "2.elif condition.if the initial if condition is false, the interpreter moves on to the  elif statement and evaluates its condition.\n",
        "3.The interpreter continues to evaluate each elif condition in order until it finds one that is True.\n",
        "4.If an elif condition is True, the corresponding code block is executed, and the remaining elif and else blocks are skipped.\n",
        "5.else Block: If none of the if or elif conditions are True, and an else block is present, the code within the else block is executed.\n",
        "\n",
        "13. What is the difference between for and while loops?\n",
        "ANS:for loop is used to iterate over a sequence or other iterable object.it executes a block of code for each item in the sequence.\n",
        "while loop is repeatedly eecutes a block of code as long as a given condition is True.\n",
        "\n",
        "14. Describe a scenario where a while loop is more suitable than a for loop?\n",
        "ANS:You don't know how many times you'll need to ask the user for input before they provide a valid response. It could be on the first try, or it could take multiple attempts. This makes a while loop more suitable because it allows for indefinite iteration based on a condition.\n",
        "\n",
        "\n"
      ],
      "metadata": {
        "id": "fW5NSOKz4pyk"
      }
    },
    {
      "cell_type": "code",
      "source": [
        "# Write a Python program to print \"Hello, World!\"\n",
        "print(\"Hello, World!\")"
      ],
      "metadata": {
        "colab": {
          "base_uri": "https://localhost:8080/"
        },
        "id": "Ph-LBOinHmfO",
        "outputId": "f92b7184-1f81-41da-bbec-c87f6ffd0b7c"
      },
      "execution_count": 1,
      "outputs": [
        {
          "output_type": "stream",
          "name": "stdout",
          "text": [
            "Hello, World!\n"
          ]
        }
      ]
    },
    {
      "cell_type": "markdown",
      "source": [],
      "metadata": {
        "id": "20Gk6bVS4oD1"
      }
    },
    {
      "cell_type": "code",
      "source": [
        "# Write a Python program that displays your name and age.\n",
        "name = input(\"Enter your name:\")\n",
        "age = int(input(\"Enter your age:\"))\n",
        "print(f\"My name is {name} and I am {age} years old.\")"
      ],
      "metadata": {
        "colab": {
          "base_uri": "https://localhost:8080/"
        },
        "id": "4OPuWx2CICou",
        "outputId": "0b35bb36-3cc0-48d2-f5a5-f052380878f5"
      },
      "execution_count": 2,
      "outputs": [
        {
          "output_type": "stream",
          "name": "stdout",
          "text": [
            "Enter your name:dikesh\n",
            "Enter your age:21\n",
            "My name is dikesh and I am 21 years old.\n"
          ]
        }
      ]
    },
    {
      "cell_type": "code",
      "source": [
        " #Write code to print all the pre-defined keywords in Python using the keyword library.\n",
        " import keyword\n",
        " print(keyword.kwlist)"
      ],
      "metadata": {
        "colab": {
          "base_uri": "https://localhost:8080/"
        },
        "id": "Dy8sTQ8eI4jC",
        "outputId": "7d5ec420-917e-4c26-c9e4-411d0ece62ab"
      },
      "execution_count": 3,
      "outputs": [
        {
          "output_type": "stream",
          "name": "stdout",
          "text": [
            "['False', 'None', 'True', 'and', 'as', 'assert', 'async', 'await', 'break', 'class', 'continue', 'def', 'del', 'elif', 'else', 'except', 'finally', 'for', 'from', 'global', 'if', 'import', 'in', 'is', 'lambda', 'nonlocal', 'not', 'or', 'pass', 'raise', 'return', 'try', 'while', 'with', 'yield']\n"
          ]
        }
      ]
    },
    {
      "cell_type": "code",
      "source": [
        "# Write a program that checks if a given word is a Python keyword\n",
        "import keyword\n",
        "word = input(\"Enter a word:\")\n",
        "# Write a program that checks if a given word is a Python keyword\n",
        "import keyword\n",
        "word = input(\"Enter a word:\")\n",
        "if keyword.iskeyword(word):\n",
        "  print(f\"{word} is a Python keyword.\")\n",
        "else:\n",
        "    print(f\"{word} is not a Python keyword.\")\n",
        ""
      ],
      "metadata": {
        "colab": {
          "base_uri": "https://localhost:8080/"
        },
        "id": "pG_SkHZXJIWS",
        "outputId": "dfcee30c-1cbb-45ad-c5f0-3fa7492a1096"
      },
      "execution_count": 7,
      "outputs": [
        {
          "output_type": "stream",
          "name": "stdout",
          "text": [
            "Enter a word:dikesh\n",
            "Enter a word:tuple\n",
            "tuple is not a Python keyword.\n"
          ]
        }
      ]
    },
    {
      "cell_type": "code",
      "source": [
        "# Create a list and tuple in Python, and demonstrate how attempting to change an element works differently for each.\n",
        "my_list = [1,2,3,4]\n",
        "my_tuple = (1,2,3,4)\n",
        "my_list[0] = 10\n",
        "my_tuple[0]\n",
        "print(my_list)\n",
        "print(my_tuple)\n",
        "\n"
      ],
      "metadata": {
        "colab": {
          "base_uri": "https://localhost:8080/"
        },
        "id": "HweMk9-QKSpL",
        "outputId": "8a0bfec7-a089-4b1e-e85a-cdd0a2a2ecc6"
      },
      "execution_count": 10,
      "outputs": [
        {
          "output_type": "stream",
          "name": "stdout",
          "text": [
            "[10, 2, 3, 4]\n",
            "(1, 2, 3, 4)\n"
          ]
        }
      ]
    },
    {
      "cell_type": "code",
      "source": [
        "#Write a function to demonstrate the behavior of mutable and immutable arguments\n",
        "def change_list(my_list):\n",
        "  my_list.append(4)\n",
        "  print(my_list)\n",
        "  my_list = [1,2,3]\n",
        "  print(my_list)\n",
        "my_list = [1,2,3]\n",
        "change_list(my_list)\n",
        "print(my_list)"
      ],
      "metadata": {
        "colab": {
          "base_uri": "https://localhost:8080/"
        },
        "id": "eCToyb-RLxFG",
        "outputId": "d6a1d457-3212-4e35-f78a-c02f44777419"
      },
      "execution_count": 11,
      "outputs": [
        {
          "output_type": "stream",
          "name": "stdout",
          "text": [
            "[1, 2, 3, 4]\n",
            "[1, 2, 3]\n",
            "[1, 2, 3, 4]\n"
          ]
        }
      ]
    },
    {
      "cell_type": "code",
      "source": [
        "# Write a program to demonstrate the use of logical operators\n",
        "x = 5\n",
        "y = 10\n",
        "if x > 0 and y > 0:\n",
        "  print(\"Both x and y are positive.\")\n",
        "if x > 0 or y > 0:\n",
        "  print(\"At least one of x or y is positive.\")"
      ],
      "metadata": {
        "colab": {
          "base_uri": "https://localhost:8080/"
        },
        "id": "7JhYxlmPMc_f",
        "outputId": "112e6499-8728-45d1-c0d1-b58b4539ecc9"
      },
      "execution_count": 12,
      "outputs": [
        {
          "output_type": "stream",
          "name": "stdout",
          "text": [
            "Both x and y are positive.\n",
            "At least one of x or y is positive.\n"
          ]
        }
      ]
    },
    {
      "cell_type": "code",
      "source": [
        "#Write a Python program to convert user input from string to integer, float, and boolean types\n",
        "user_input = input(\"Enter a value: \")\n",
        "\n",
        "# Integer conversion\n",
        "try:\n",
        "    integer_value = int(user_input)\n",
        "    print(\"Integer:\", integer_value)\n",
        "except ValueError:\n",
        "    print(\"Invalid input for integer.\")\n",
        "\n",
        "# Float conversion\n",
        "try:\n",
        "    float_value = float(user_input)\n",
        "    print(\"Float:\", float_value)\n",
        "except ValueError:\n",
        "    print(\"Invalid input for float.\")\n",
        "\n",
        "# Boolean conversion (simplified)\n",
        "boolean_value = bool(user_input)  # Empty string is False, others are True\n",
        "print(\"Boolean:\", boolean_value)"
      ],
      "metadata": {
        "colab": {
          "base_uri": "https://localhost:8080/"
        },
        "id": "IZjyrQoQMw-M",
        "outputId": "39467f40-0045-46f8-8537-62ba2fea9a7a"
      },
      "execution_count": 24,
      "outputs": [
        {
          "output_type": "stream",
          "name": "stdout",
          "text": [
            "Enter a value: 12.5\n",
            "Invalid input for integer.\n",
            "Float: 12.5\n",
            "Boolean: True\n"
          ]
        }
      ]
    },
    {
      "cell_type": "code",
      "source": [
        "#Write code to demonstrate type casting with list elements\n",
        "my_list = [1, 2.5, \"3\", True]\n",
        "\n",
        "# Type casting to integer\n",
        "integer_list = [int(item) for item in my_list]\n",
        "print(\"Integer List:\", integer_list)\n",
        "\n",
        "# Type casting to float\n",
        "float_list = [float(item) for item in my_list]\n",
        "print(\"Float List:\", float_list)\n",
        "\n",
        "# Type casting to string\n",
        "string_list = [str(item) for item in my_list]\n",
        "print(\"String List:\", string_list)\n",
        "\n",
        "# Type casting to boolean\n",
        "boolean_list = [bool(item) for item in my_list]\n",
        "print(\"Boolean List:\", boolean_list)"
      ],
      "metadata": {
        "colab": {
          "base_uri": "https://localhost:8080/"
        },
        "id": "PMHnH4X5O-vn",
        "outputId": "205c8d42-6ec8-49c9-e91c-6154ea27dfe3"
      },
      "execution_count": 26,
      "outputs": [
        {
          "output_type": "stream",
          "name": "stdout",
          "text": [
            "Integer List: [1, 2, 3, 1]\n",
            "Float List: [1.0, 2.5, 3.0, 1.0]\n",
            "String List: ['1', '2.5', '3', 'True']\n",
            "Boolean List: [True, True, True, True]\n"
          ]
        }
      ]
    },
    {
      "cell_type": "code",
      "source": [
        "#Write a program that checks if a number is positive, negative, or zero\n",
        "num = float(input(\"Enter a number:\"))\n",
        "if num > 0:\n",
        "  print(\"The number is positive.\")\n",
        "elif num < 0:\n",
        "  print(\"The number is negative.\")\n",
        "else:\n",
        "  print(\"The number is zero.\")\n"
      ],
      "metadata": {
        "colab": {
          "base_uri": "https://localhost:8080/"
        },
        "id": "NQDQ22l9Pj9M",
        "outputId": "e47b8b58-0f88-4cdd-d740-253dcadbcb71"
      },
      "execution_count": 32,
      "outputs": [
        {
          "output_type": "stream",
          "name": "stdout",
          "text": [
            "Enter a number:-5\n",
            "The number is negative.\n"
          ]
        }
      ]
    },
    {
      "cell_type": "code",
      "source": [
        "#Write a for loop to print numbers from 1 to 10\n",
        "for i in range(1,11):\n",
        "  print(i)"
      ],
      "metadata": {
        "colab": {
          "base_uri": "https://localhost:8080/"
        },
        "id": "h3qMMwD8QK5M",
        "outputId": "06ac6ffe-621b-48e7-b351-e09c815165be"
      },
      "execution_count": 33,
      "outputs": [
        {
          "output_type": "stream",
          "name": "stdout",
          "text": [
            "1\n",
            "2\n",
            "3\n",
            "4\n",
            "5\n",
            "6\n",
            "7\n",
            "8\n",
            "9\n",
            "10\n"
          ]
        }
      ]
    },
    {
      "cell_type": "code",
      "source": [
        "# Write a Python program to find the sum of all even numbers between 1 and 50\n",
        "sum_even = 0\n",
        "for num in range(2,51,2):\n",
        "  sum_even += num\n",
        "print(\"The sum of even numbers between 1 and 50 is:\", sum_even)"
      ],
      "metadata": {
        "colab": {
          "base_uri": "https://localhost:8080/"
        },
        "id": "XZPDC0glQgrc",
        "outputId": "df0e0168-4ee4-4cab-8556-ac4f1f57c1d7"
      },
      "execution_count": 34,
      "outputs": [
        {
          "output_type": "stream",
          "name": "stdout",
          "text": [
            "The sum of even numbers between 1 and 50 is: 650\n"
          ]
        }
      ]
    },
    {
      "cell_type": "code",
      "source": [
        "#Write a program to reverse a string using a while loop\n",
        "string = input(\"Enter a string:\")\n",
        "reversed_string = \"\"\n",
        "index = len(string) - 1\n",
        "while index >= 0:\n",
        "  reversed_string += string[index]\n",
        "  index -= 1\n",
        "print(\"Reversed string:\", reversed_string)"
      ],
      "metadata": {
        "colab": {
          "base_uri": "https://localhost:8080/"
        },
        "id": "9tfDD5sNQ2U-",
        "outputId": "8230ad66-ffa2-44ee-9d60-c27947c02e28"
      },
      "execution_count": 35,
      "outputs": [
        {
          "output_type": "stream",
          "name": "stdout",
          "text": [
            "Enter a string:dikesh\n",
            "Reversed string: hsekid\n"
          ]
        }
      ]
    },
    {
      "cell_type": "code",
      "source": [
        "#Write a Python program to calculate the factorial of a number provided by the user using a while loop.\n",
        "num = int(input(\"Enter a number:\"))\n",
        "factorial = 1\n",
        "current = 1\n",
        "while current <= num:\n",
        "  factorial *= current\n",
        "  current += 1\n",
        "print(f\"The factorial of {num} is {factorial}.\")\n"
      ],
      "metadata": {
        "colab": {
          "base_uri": "https://localhost:8080/"
        },
        "id": "HQka_pgTRVyl",
        "outputId": "37fb7661-223a-4964-c7ea-c2a6a9324929"
      },
      "execution_count": 37,
      "outputs": [
        {
          "output_type": "stream",
          "name": "stdout",
          "text": [
            "Enter a number:5\n",
            "The factorial of 5 is 120.\n"
          ]
        }
      ]
    }
  ]
}